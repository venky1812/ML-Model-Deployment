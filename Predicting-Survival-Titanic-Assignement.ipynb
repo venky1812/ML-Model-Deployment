{
 "cells": [
  {
   "cell_type": "markdown",
   "metadata": {},
   "source": [
    "## Predicting Survival on the Titanic\n",
    "\n",
    "### History\n",
    "Perhaps one of the most infamous shipwrecks in history, the Titanic sank after colliding with an iceberg, killing 1502 out of 2224 people on board. Interestingly, by analysing the probability of survival based on few attributes like gender, age, and social status, we can make very accurate predictions on which passengers would survive. Some groups of people were more likely to survive than others, such as women, children, and the upper-class. Therefore, we can learn about the society priorities and privileges at the time.\n",
    "\n",
    "### Assignment:\n",
    "\n",
    "Build a Machine Learning Pipeline, to engineer the features in the data set and predict who is more likely to Survive the catastrophe.\n",
    "\n",
    "Follow the Jupyter notebook below, and complete the missing bits of code, to achieve each one of the pipeline steps."
   ]
  },
  {
   "cell_type": "code",
   "execution_count": 50,
   "metadata": {},
   "outputs": [],
   "source": [
    "import re\n",
    "\n",
    "# to handle datasets\n",
    "import pandas as pd\n",
    "import numpy as np\n",
    "\n",
    "# for visualization\n",
    "import matplotlib.pyplot as plt\n",
    "\n",
    "# to divide train and test set\n",
    "from sklearn.model_selection import train_test_split\n",
    "\n",
    "# feature scaling\n",
    "from sklearn.preprocessing import StandardScaler\n",
    "\n",
    "# to build the models\n",
    "from sklearn.linear_model import LogisticRegression\n",
    "\n",
    "# to evaluate the models\n",
    "from sklearn.metrics import accuracy_score, roc_auc_score\n",
    "\n",
    "# to persist the model and the scaler\n",
    "import joblib\n",
    "\n",
    "# to visualise al the columns in the dataframe\n",
    "pd.pandas.set_option('display.max_columns', None)\n",
    "\n",
    "# to ignore warnings\n",
    "import warnings\n",
    "warnings.filterwarnings('ignore')"
   ]
  },
  {
   "cell_type": "markdown",
   "metadata": {},
   "source": [
    "## Prepare the data set"
   ]
  },
  {
   "cell_type": "code",
   "execution_count": 51,
   "metadata": {},
   "outputs": [
    {
     "data": {
      "text/html": [
       "<div>\n",
       "<style scoped>\n",
       "    .dataframe tbody tr th:only-of-type {\n",
       "        vertical-align: middle;\n",
       "    }\n",
       "\n",
       "    .dataframe tbody tr th {\n",
       "        vertical-align: top;\n",
       "    }\n",
       "\n",
       "    .dataframe thead th {\n",
       "        text-align: right;\n",
       "    }\n",
       "</style>\n",
       "<table border=\"1\" class=\"dataframe\">\n",
       "  <thead>\n",
       "    <tr style=\"text-align: right;\">\n",
       "      <th></th>\n",
       "      <th>pclass</th>\n",
       "      <th>survived</th>\n",
       "      <th>name</th>\n",
       "      <th>sex</th>\n",
       "      <th>age</th>\n",
       "      <th>sibsp</th>\n",
       "      <th>parch</th>\n",
       "      <th>ticket</th>\n",
       "      <th>fare</th>\n",
       "      <th>cabin</th>\n",
       "      <th>embarked</th>\n",
       "      <th>boat</th>\n",
       "      <th>body</th>\n",
       "      <th>home.dest</th>\n",
       "    </tr>\n",
       "  </thead>\n",
       "  <tbody>\n",
       "    <tr>\n",
       "      <th>0</th>\n",
       "      <td>1</td>\n",
       "      <td>1</td>\n",
       "      <td>Allen, Miss. Elisabeth Walton</td>\n",
       "      <td>female</td>\n",
       "      <td>29</td>\n",
       "      <td>0</td>\n",
       "      <td>0</td>\n",
       "      <td>24160</td>\n",
       "      <td>211.3375</td>\n",
       "      <td>B5</td>\n",
       "      <td>S</td>\n",
       "      <td>2</td>\n",
       "      <td>?</td>\n",
       "      <td>St Louis, MO</td>\n",
       "    </tr>\n",
       "    <tr>\n",
       "      <th>1</th>\n",
       "      <td>1</td>\n",
       "      <td>1</td>\n",
       "      <td>Allison, Master. Hudson Trevor</td>\n",
       "      <td>male</td>\n",
       "      <td>0.9167</td>\n",
       "      <td>1</td>\n",
       "      <td>2</td>\n",
       "      <td>113781</td>\n",
       "      <td>151.55</td>\n",
       "      <td>C22 C26</td>\n",
       "      <td>S</td>\n",
       "      <td>11</td>\n",
       "      <td>?</td>\n",
       "      <td>Montreal, PQ / Chesterville, ON</td>\n",
       "    </tr>\n",
       "    <tr>\n",
       "      <th>2</th>\n",
       "      <td>1</td>\n",
       "      <td>0</td>\n",
       "      <td>Allison, Miss. Helen Loraine</td>\n",
       "      <td>female</td>\n",
       "      <td>2</td>\n",
       "      <td>1</td>\n",
       "      <td>2</td>\n",
       "      <td>113781</td>\n",
       "      <td>151.55</td>\n",
       "      <td>C22 C26</td>\n",
       "      <td>S</td>\n",
       "      <td>?</td>\n",
       "      <td>?</td>\n",
       "      <td>Montreal, PQ / Chesterville, ON</td>\n",
       "    </tr>\n",
       "    <tr>\n",
       "      <th>3</th>\n",
       "      <td>1</td>\n",
       "      <td>0</td>\n",
       "      <td>Allison, Mr. Hudson Joshua Creighton</td>\n",
       "      <td>male</td>\n",
       "      <td>30</td>\n",
       "      <td>1</td>\n",
       "      <td>2</td>\n",
       "      <td>113781</td>\n",
       "      <td>151.55</td>\n",
       "      <td>C22 C26</td>\n",
       "      <td>S</td>\n",
       "      <td>?</td>\n",
       "      <td>135</td>\n",
       "      <td>Montreal, PQ / Chesterville, ON</td>\n",
       "    </tr>\n",
       "    <tr>\n",
       "      <th>4</th>\n",
       "      <td>1</td>\n",
       "      <td>0</td>\n",
       "      <td>Allison, Mrs. Hudson J C (Bessie Waldo Daniels)</td>\n",
       "      <td>female</td>\n",
       "      <td>25</td>\n",
       "      <td>1</td>\n",
       "      <td>2</td>\n",
       "      <td>113781</td>\n",
       "      <td>151.55</td>\n",
       "      <td>C22 C26</td>\n",
       "      <td>S</td>\n",
       "      <td>?</td>\n",
       "      <td>?</td>\n",
       "      <td>Montreal, PQ / Chesterville, ON</td>\n",
       "    </tr>\n",
       "  </tbody>\n",
       "</table>\n",
       "</div>"
      ],
      "text/plain": [
       "   pclass  survived                                             name     sex  \\\n",
       "0       1         1                    Allen, Miss. Elisabeth Walton  female   \n",
       "1       1         1                   Allison, Master. Hudson Trevor    male   \n",
       "2       1         0                     Allison, Miss. Helen Loraine  female   \n",
       "3       1         0             Allison, Mr. Hudson Joshua Creighton    male   \n",
       "4       1         0  Allison, Mrs. Hudson J C (Bessie Waldo Daniels)  female   \n",
       "\n",
       "      age  sibsp  parch  ticket      fare    cabin embarked boat body  \\\n",
       "0      29      0      0   24160  211.3375       B5        S    2    ?   \n",
       "1  0.9167      1      2  113781    151.55  C22 C26        S   11    ?   \n",
       "2       2      1      2  113781    151.55  C22 C26        S    ?    ?   \n",
       "3      30      1      2  113781    151.55  C22 C26        S    ?  135   \n",
       "4      25      1      2  113781    151.55  C22 C26        S    ?    ?   \n",
       "\n",
       "                         home.dest  \n",
       "0                     St Louis, MO  \n",
       "1  Montreal, PQ / Chesterville, ON  \n",
       "2  Montreal, PQ / Chesterville, ON  \n",
       "3  Montreal, PQ / Chesterville, ON  \n",
       "4  Montreal, PQ / Chesterville, ON  "
      ]
     },
     "execution_count": 51,
     "metadata": {},
     "output_type": "execute_result"
    }
   ],
   "source": [
    "# load the data - it is available open source and online\n",
    "\n",
    "data = pd.read_csv('https://www.openml.org/data/get_csv/16826755/phpMYEkMl')\n",
    "\n",
    "# display data\n",
    "data.head()"
   ]
  },
  {
   "cell_type": "code",
   "execution_count": 52,
   "metadata": {},
   "outputs": [
    {
     "data": {
      "text/plain": [
       "Index(['pclass', 'survived', 'name', 'sex', 'age', 'sibsp', 'parch', 'ticket',\n",
       "       'fare', 'cabin', 'embarked', 'boat', 'body', 'home.dest'],\n",
       "      dtype='object')"
      ]
     },
     "execution_count": 52,
     "metadata": {},
     "output_type": "execute_result"
    }
   ],
   "source": [
    "data.columns"
   ]
  },
  {
   "cell_type": "code",
   "execution_count": 53,
   "metadata": {},
   "outputs": [],
   "source": [
    "# replace interrogation marks by NaN values\n",
    "\n",
    "data = data.replace('?', np.nan)"
   ]
  },
  {
   "cell_type": "code",
   "execution_count": 54,
   "metadata": {},
   "outputs": [],
   "source": [
    "# retain only the first cabin if more than\n",
    "# 1 are available per passenger\n",
    "\n",
    "def get_first_cabin(row):\n",
    "    try:\n",
    "        return row.split()[0]\n",
    "    except:\n",
    "        return np.nan\n",
    "    \n",
    "data['cabin'] = data['cabin'].apply(get_first_cabin)"
   ]
  },
  {
   "cell_type": "code",
   "execution_count": 55,
   "metadata": {},
   "outputs": [],
   "source": [
    "# extracts the title (Mr, Ms, etc) from the name variable\n",
    "\n",
    "def get_title(passenger):\n",
    "    line = passenger\n",
    "    if re.search('Mrs', line):\n",
    "        return 'Mrs'\n",
    "    elif re.search('Mr', line):\n",
    "        return 'Mr'\n",
    "    elif re.search('Miss', line):\n",
    "        return 'Miss'\n",
    "    elif re.search('Master', line):\n",
    "        return 'Master'\n",
    "    else:\n",
    "        return 'Other'\n",
    "    \n",
    "data['title'] = data['name'].apply(get_title)"
   ]
  },
  {
   "cell_type": "code",
   "execution_count": 56,
   "metadata": {},
   "outputs": [],
   "source": [
    "# cast numerical variables as floats\n",
    "\n",
    "data['fare'] = data['fare'].astype('float')\n",
    "data['age'] = data['age'].astype('float')"
   ]
  },
  {
   "cell_type": "code",
   "execution_count": 57,
   "metadata": {},
   "outputs": [
    {
     "data": {
      "text/html": [
       "<div>\n",
       "<style scoped>\n",
       "    .dataframe tbody tr th:only-of-type {\n",
       "        vertical-align: middle;\n",
       "    }\n",
       "\n",
       "    .dataframe tbody tr th {\n",
       "        vertical-align: top;\n",
       "    }\n",
       "\n",
       "    .dataframe thead th {\n",
       "        text-align: right;\n",
       "    }\n",
       "</style>\n",
       "<table border=\"1\" class=\"dataframe\">\n",
       "  <thead>\n",
       "    <tr style=\"text-align: right;\">\n",
       "      <th></th>\n",
       "      <th>pclass</th>\n",
       "      <th>survived</th>\n",
       "      <th>sex</th>\n",
       "      <th>age</th>\n",
       "      <th>sibsp</th>\n",
       "      <th>parch</th>\n",
       "      <th>fare</th>\n",
       "      <th>cabin</th>\n",
       "      <th>embarked</th>\n",
       "      <th>title</th>\n",
       "    </tr>\n",
       "  </thead>\n",
       "  <tbody>\n",
       "    <tr>\n",
       "      <th>0</th>\n",
       "      <td>1</td>\n",
       "      <td>1</td>\n",
       "      <td>female</td>\n",
       "      <td>29.0000</td>\n",
       "      <td>0</td>\n",
       "      <td>0</td>\n",
       "      <td>211.3375</td>\n",
       "      <td>B5</td>\n",
       "      <td>S</td>\n",
       "      <td>Miss</td>\n",
       "    </tr>\n",
       "    <tr>\n",
       "      <th>1</th>\n",
       "      <td>1</td>\n",
       "      <td>1</td>\n",
       "      <td>male</td>\n",
       "      <td>0.9167</td>\n",
       "      <td>1</td>\n",
       "      <td>2</td>\n",
       "      <td>151.5500</td>\n",
       "      <td>C22</td>\n",
       "      <td>S</td>\n",
       "      <td>Master</td>\n",
       "    </tr>\n",
       "    <tr>\n",
       "      <th>2</th>\n",
       "      <td>1</td>\n",
       "      <td>0</td>\n",
       "      <td>female</td>\n",
       "      <td>2.0000</td>\n",
       "      <td>1</td>\n",
       "      <td>2</td>\n",
       "      <td>151.5500</td>\n",
       "      <td>C22</td>\n",
       "      <td>S</td>\n",
       "      <td>Miss</td>\n",
       "    </tr>\n",
       "    <tr>\n",
       "      <th>3</th>\n",
       "      <td>1</td>\n",
       "      <td>0</td>\n",
       "      <td>male</td>\n",
       "      <td>30.0000</td>\n",
       "      <td>1</td>\n",
       "      <td>2</td>\n",
       "      <td>151.5500</td>\n",
       "      <td>C22</td>\n",
       "      <td>S</td>\n",
       "      <td>Mr</td>\n",
       "    </tr>\n",
       "    <tr>\n",
       "      <th>4</th>\n",
       "      <td>1</td>\n",
       "      <td>0</td>\n",
       "      <td>female</td>\n",
       "      <td>25.0000</td>\n",
       "      <td>1</td>\n",
       "      <td>2</td>\n",
       "      <td>151.5500</td>\n",
       "      <td>C22</td>\n",
       "      <td>S</td>\n",
       "      <td>Mrs</td>\n",
       "    </tr>\n",
       "  </tbody>\n",
       "</table>\n",
       "</div>"
      ],
      "text/plain": [
       "   pclass  survived     sex      age  sibsp  parch      fare cabin embarked  \\\n",
       "0       1         1  female  29.0000      0      0  211.3375    B5        S   \n",
       "1       1         1    male   0.9167      1      2  151.5500   C22        S   \n",
       "2       1         0  female   2.0000      1      2  151.5500   C22        S   \n",
       "3       1         0    male  30.0000      1      2  151.5500   C22        S   \n",
       "4       1         0  female  25.0000      1      2  151.5500   C22        S   \n",
       "\n",
       "    title  \n",
       "0    Miss  \n",
       "1  Master  \n",
       "2    Miss  \n",
       "3      Mr  \n",
       "4     Mrs  "
      ]
     },
     "execution_count": 57,
     "metadata": {},
     "output_type": "execute_result"
    }
   ],
   "source": [
    "# drop unnecessary variables\n",
    "\n",
    "data.drop(labels=['name','ticket', 'boat', 'body','home.dest'], axis=1, inplace=True)\n",
    "\n",
    "# display data\n",
    "data.head()"
   ]
  },
  {
   "cell_type": "code",
   "execution_count": 58,
   "metadata": {},
   "outputs": [],
   "source": [
    "# save the data set\n",
    "\n",
    "data.to_csv('titanic.csv', index=False)"
   ]
  },
  {
   "cell_type": "markdown",
   "metadata": {},
   "source": [
    "## Data Exploration\n",
    "\n",
    "### Find numerical and categorical variables"
   ]
  },
  {
   "cell_type": "code",
   "execution_count": 59,
   "metadata": {},
   "outputs": [],
   "source": [
    "target = 'survived'"
   ]
  },
  {
   "cell_type": "code",
   "execution_count": 60,
   "metadata": {},
   "outputs": [
    {
     "name": "stdout",
     "output_type": "stream",
     "text": [
      "Number of numerical variables: 6\n",
      "Number of categorical variables: 4\n"
     ]
    }
   ],
   "source": [
    "vars_num =[col for col in data.columns if data[col].dtypes !='O' ] # fill your code here\n",
    "\n",
    "vars_cat =[col for col in data.columns if data[col].dtypes =='O' ]# fill your code here\n",
    "\n",
    "print('Number of numerical variables: {}'.format(len(vars_num)))\n",
    "print('Number of categorical variables: {}'.format(len(vars_cat)))"
   ]
  },
  {
   "cell_type": "markdown",
   "metadata": {},
   "source": [
    "### Find missing values in variables"
   ]
  },
  {
   "cell_type": "code",
   "execution_count": 61,
   "metadata": {},
   "outputs": [
    {
     "data": {
      "text/plain": [
       "pclass      0.000000\n",
       "survived    0.000000\n",
       "age         0.200917\n",
       "sibsp       0.000000\n",
       "parch       0.000000\n",
       "fare        0.000764\n",
       "dtype: float64"
      ]
     },
     "execution_count": 61,
     "metadata": {},
     "output_type": "execute_result"
    }
   ],
   "source": [
    "# first in numerical variables\n",
    "\n",
    "data[vars_num].isnull().mean()"
   ]
  },
  {
   "cell_type": "code",
   "execution_count": 62,
   "metadata": {},
   "outputs": [
    {
     "data": {
      "text/plain": [
       "sex         0.000000\n",
       "cabin       0.774637\n",
       "embarked    0.001528\n",
       "title       0.000000\n",
       "dtype: float64"
      ]
     },
     "execution_count": 62,
     "metadata": {},
     "output_type": "execute_result"
    }
   ],
   "source": [
    "# now in categorical variables\n",
    "\n",
    "data[vars_cat].isnull().mean()"
   ]
  },
  {
   "cell_type": "markdown",
   "metadata": {},
   "source": [
    "### Determine cardinality of categorical variables"
   ]
  },
  {
   "cell_type": "code",
   "execution_count": 63,
   "metadata": {},
   "outputs": [
    {
     "data": {
      "text/plain": [
       "sex           2\n",
       "cabin       181\n",
       "embarked      3\n",
       "title         5\n",
       "dtype: int64"
      ]
     },
     "execution_count": 63,
     "metadata": {},
     "output_type": "execute_result"
    }
   ],
   "source": [
    "data[vars_cat].nunique()"
   ]
  },
  {
   "cell_type": "markdown",
   "metadata": {},
   "source": [
    "### Determine the distribution of numerical variables"
   ]
  },
  {
   "cell_type": "code",
   "execution_count": 64,
   "metadata": {},
   "outputs": [
    {
     "data": {
      "image/png": "[encoded data removed]",
      "text/plain": [
       "<Figure size 432x288 with 1 Axes>"
      ]
     },
     "metadata": {
      "needs_background": "light"
     },
     "output_type": "display_data"
    },
    {
     "data": {
      "image/png": "[encoded data removed]",
      "text/plain": [
       "<Figure size 432x288 with 1 Axes>"
      ]
     },
     "metadata": {
      "needs_background": "light"
     },
     "output_type": "display_data"
    },
    {
     "data": {
      "image/png": "[encoded data removed]",
      "text/plain": [
       "<Figure size 432x288 with 1 Axes>"
      ]
     },
     "metadata": {
      "needs_background": "light"
     },
     "output_type": "display_data"
    },
    {
     "data": {
      "image/png": "[encoded data removed]",
      "text/plain": [
       "<Figure size 432x288 with 1 Axes>"
      ]
     },
     "metadata": {
      "needs_background": "light"
     },
     "output_type": "display_data"
    },
    {
     "data": {
      "image/png": "[encoded data removed]",
      "text/plain": [
       "<Figure size 432x288 with 1 Axes>"
      ]
     },
     "metadata": {
      "needs_background": "light"
     },
     "output_type": "display_data"
    },
    {
     "data": {
      "image/png": "[encoded data removed]",
      "text/plain": [
       "<Figure size 432x288 with 1 Axes>"
      ]
     },
     "metadata": {
      "needs_background": "light"
     },
     "output_type": "display_data"
    }
   ],
   "source": [
    "def numeric_var_distribution(data,var):\n",
    "    data=data.copy()\n",
    "    data[var].hist(bins=10)\n",
    "    plt.ylabel(\"Survival\")\n",
    "    plt.xlabel(var)\n",
    "    plt.title(var)\n",
    "    plt.show()\n",
    "    \n",
    "for var in vars_num:\n",
    "    numeric_var_distribution(data,var)"
   ]
  },
  {
   "cell_type": "markdown",
   "metadata": {},
   "source": [
    "## Separate data into train and test\n",
    "\n",
    "Use the code below for reproducibility. Don't change it."
   ]
  },
  {
   "cell_type": "code",
   "execution_count": 65,
   "metadata": {},
   "outputs": [
    {
     "data": {
      "text/plain": [
       "((1047, 9), (262, 9))"
      ]
     },
     "execution_count": 65,
     "metadata": {},
     "output_type": "execute_result"
    }
   ],
   "source": [
    "X_train, X_test, y_train, y_test = train_test_split(\n",
    "    data.drop('survived', axis=1),  # predictors\n",
    "    data['survived'],  # target\n",
    "    test_size=0.2,  # percentage of obs in test set\n",
    "    random_state=0)  # seed to ensure reproducibility\n",
    "\n",
    "X_train.shape, X_test.shape"
   ]
  },
  {
   "cell_type": "code",
   "execution_count": 66,
   "metadata": {},
   "outputs": [
    {
     "data": {
      "text/plain": [
       "Index(['pclass', 'sex', 'age', 'sibsp', 'parch', 'fare', 'cabin', 'embarked',\n",
       "       'title'],\n",
       "      dtype='object')"
      ]
     },
     "execution_count": 66,
     "metadata": {},
     "output_type": "execute_result"
    }
   ],
   "source": [
    "X_train.columns"
   ]
  },
  {
   "cell_type": "markdown",
   "metadata": {},
   "source": [
    "## Feature Engineering\n",
    "\n",
    "### Extract only the letter (and drop the number) from the variable Cabin"
   ]
  },
  {
   "cell_type": "code",
   "execution_count": 67,
   "metadata": {},
   "outputs": [],
   "source": [
    "import pdb"
   ]
  },
  {
   "cell_type": "code",
   "execution_count": 68,
   "metadata": {},
   "outputs": [],
   "source": [
    "def extract_letter(cabin_no):\n",
    "    \n",
    "    if type(cabin_no) is not float:\n",
    "        #return re.findall(\"[a-zA-Z]\",cabin_no)[0]\n",
    "        return cabin_no.split()[0]\n",
    "    else:\n",
    "        return np.nan\n",
    "    \n",
    "    \n",
    "X_train['cabin'] =X_train['cabin'].apply(extract_letter)\n",
    "X_test['cabin'] =X_test['cabin'].apply(extract_letter)"
   ]
  },
  {
   "cell_type": "code",
   "execution_count": 69,
   "metadata": {},
   "outputs": [
    {
     "data": {
      "text/plain": [
       "array([nan, 'E40', 'F', 'A19', 'C32', 'D', 'B79', 'C62', 'E8', 'D28',\n",
       "       'C45', 'C46', 'B22', 'B57', 'C23', 'E44', 'B45', 'B39', 'B58',\n",
       "       'F2', 'C47', 'B101', 'D21', 'A7', 'E52', 'F38', 'E36', 'C68',\n",
       "       'E24', 'C22', 'D38', 'B50', 'A24', 'C111', 'C6', 'C87', 'C93',\n",
       "       'D36', 'C125', 'B35', 'T', 'B73', 'A26', 'A18', 'B96', 'G6', 'C78',\n",
       "       'C101', 'D9', 'D33', 'C128', 'E50', 'B26', 'B69', 'E121', 'C123',\n",
       "       'B94', 'A34', 'C39', 'D43', 'E31', 'B5', 'D17', 'F33', 'D7', 'A21',\n",
       "       'D34', 'A29', 'D35', 'A11', 'B51', 'D46', 'E60', 'C30', 'D26',\n",
       "       'E68', 'A9', 'B71', 'D37', 'C55', 'C89', 'C124', 'C126', 'E49',\n",
       "       'E46', 'D19', 'C82', 'B52', 'C92', 'E45', 'C65', 'E25', 'B3',\n",
       "       'D40', 'C91', 'B102', 'B61', 'A20', 'B36', 'C7', 'B77', 'D20',\n",
       "       'C148', 'C105', 'E38', 'B86', 'C132', 'C86', 'A14', 'C54', 'A5',\n",
       "       'B49', 'B28', 'B24', 'C2', 'F4', 'A6', 'C83', 'B42', 'A36', 'C52',\n",
       "       'D56', 'C116', 'B19', 'E77', 'E101', 'B18', 'C95', 'D15', 'E33',\n",
       "       'B30', 'E10', 'C130', 'D6', 'C51', 'D30', 'E67', 'C110', 'C103',\n",
       "       'C90', 'C118', 'C97', 'D47', 'E34', 'B4', 'D50', 'E17', 'B41',\n",
       "       'C49', 'C85', 'B20', 'C28', 'E63', 'C99', 'D49', 'A10', 'A16',\n",
       "       'B37', 'C80', 'B78'], dtype=object)"
      ]
     },
     "execution_count": 69,
     "metadata": {},
     "output_type": "execute_result"
    }
   ],
   "source": [
    "X_train.cabin.unique()"
   ]
  },
  {
   "cell_type": "markdown",
   "metadata": {},
   "source": [
    "### Fill in Missing data in numerical variables:\n",
    "\n",
    "- Add a binary missing indicator\n",
    "- Fill NA in original variable with the median"
   ]
  },
  {
   "cell_type": "code",
   "execution_count": 70,
   "metadata": {},
   "outputs": [
    {
     "data": {
      "text/plain": [
       "age     0\n",
       "fare    0\n",
       "dtype: int64"
      ]
     },
     "execution_count": 70,
     "metadata": {},
     "output_type": "execute_result"
    }
   ],
   "source": [
    "num_var_with_na=[var for var in X_train.columns if X_train[var].isnull().sum() > 0 and X_train[var].dtypes !='O']\n",
    "\n",
    "for var in num_var_with_na:\n",
    "    \n",
    "    ## Cal teh meadian value\n",
    "    meadian_value=X_train[var].median()\n",
    "    \n",
    "    ## null value indicator \n",
    "    X_train[var+'_na']=np.where(X_train[var].isnull(),1,0)\n",
    "    X_test[var+'_na']=np.where(X_test[var].isnull(),1,0)\n",
    "    \n",
    "    ## Fill null value with meadian\n",
    "    X_train[var]=X_train[var].fillna(meadian_value)\n",
    "    X_test[var]=X_test[var].fillna(meadian_value)\n",
    "    \n",
    "    \n",
    "X_train[num_var_with_na].isnull().sum()   \n",
    "    "
   ]
  },
  {
   "cell_type": "markdown",
   "metadata": {},
   "source": [
    "### Replace Missing data in categorical variables with the string **Missing**"
   ]
  },
  {
   "cell_type": "code",
   "execution_count": 71,
   "metadata": {},
   "outputs": [],
   "source": [
    "cat_var_with_na=[var for var in X_train.columns if X_train[var].isnull().sum() > 0 and X_train[var].dtypes =='O']"
   ]
  },
  {
   "cell_type": "code",
   "execution_count": 72,
   "metadata": {},
   "outputs": [],
   "source": [
    "X_train[cat_var_with_na]=X_train[cat_var_with_na].fillna(\"Missing\")\n"
   ]
  },
  {
   "cell_type": "code",
   "execution_count": 73,
   "metadata": {},
   "outputs": [],
   "source": [
    "X_test[cat_var_with_na]=X_test[cat_var_with_na].fillna(\"Missing\")"
   ]
  },
  {
   "cell_type": "markdown",
   "metadata": {},
   "source": [
    "### Remove rare labels in categorical variables\n",
    "\n",
    "- remove labels present in less than 5 % of the passengers"
   ]
  },
  {
   "cell_type": "code",
   "execution_count": 74,
   "metadata": {},
   "outputs": [],
   "source": [
    "cat_vars=[col for col in X_train.columns if X_train[col].dtypes=='O']"
   ]
  },
  {
   "cell_type": "code",
   "execution_count": 75,
   "metadata": {},
   "outputs": [
    {
     "name": "stdout",
     "output_type": "stream",
     "text": [
      "[]\n",
      "['F', 'C23', 'B57', 'G6', 'D', 'B96', 'C78', 'F33', 'C22', 'F2', 'F4', 'A34', 'C101', 'E34', 'B51', 'E101', 'B58', 'C65', 'C124', 'C106', 'B69', 'C7', 'B49', 'C125', 'E33', 'C31', 'C52', 'C54', 'B45', 'D21', 'D19', 'B78', 'C2', 'C86', 'B35', 'C89', 'B41', 'C55', 'B77', 'E46', 'C32', 'C93', 'C116', 'D35', 'D20', 'D28', 'C62', 'C83', 'E121', 'C85', 'C6', 'D26', 'C123', 'E31', 'C46', 'D36', 'D33', 'B22', 'B28', 'D10', 'C126', 'B18', 'C68', 'C92', 'C80', 'B71', 'B20', 'E67', 'B5', 'E44', 'D17', 'E50', 'D37', 'E24', 'D30', 'E8', 'E25', 'D15', 'E45', 'B19', 'B11', 'A19', 'A36', 'A16', 'E68', 'A23', 'B80', 'B30', 'A26', 'D7', 'E10', 'D38', 'E49', 'B26', 'D45', 'C70', 'C90', 'D46', 'B36', 'C105', 'C128', 'B101', 'B102', 'D40', 'E12', 'C30', 'C99', 'E39', 'C49', 'A18', 'A7', 'D43', 'D11', 'C111', 'A32', 'A29', 'D34', 'B24', 'C118', 'B3', 'C28', 'B4', 'E36', 'C47', 'C53', 'E17', 'C104', 'C103', 'D48', 'E38', 'A11', 'B38', 'C82', 'B61', 'B42', 'D56', 'C95', 'A31', 'E63', 'D50', 'A9', 'A20', 'A14', 'E77', 'B39', 'B52', 'D49', 'B94', 'C87', 'B79', 'T', 'D22', 'D6', 'C50', 'D47', 'B37', 'C39', 'A21', 'E58', 'A24', 'D9', 'E60', 'A10', 'E40', 'B10', 'A5', 'C148', 'B50', 'C97', 'C132', 'A6', 'C51', 'E52', 'B73', 'C45', 'B82', 'F38', 'B86', 'C91', 'C110', 'C130']\n",
      "[]\n",
      "['Master', 'Other']\n"
     ]
    }
   ],
   "source": [
    "for var in cat_vars:\n",
    "    ## Find rare feature labels \n",
    "    tmp=data[var].value_counts()/len(X_train)\n",
    "    rare_label_lst=tmp[tmp < 0.06].index.tolist()\n",
    "    print(rare_label_lst)\n",
    "    \n",
    "    ## Update rare feature labels as Rare in train set\n",
    "    X_train[var] = np.where(~X_train[var].isin(rare_label_lst), X_train[var], 'Rare')\n",
    "    \n",
    "    ## Update rare feature labels as Rare test set\n",
    "    X_test[var] = np.where(~X_test[var].isin(rare_label_lst), X_test[var], 'Rare')\n",
    "    "
   ]
  },
  {
   "cell_type": "markdown",
   "metadata": {},
   "source": [
    "### Perform one hot encoding of categorical variables into k-1 binary variables\n",
    "\n",
    "- k-1, means that if the variable contains 9 different categories, we create 8 different binary variables\n",
    "- Remember to drop the original categorical variable (the one with the strings) after the encoding"
   ]
  },
  {
   "cell_type": "code",
   "execution_count": 76,
   "metadata": {},
   "outputs": [],
   "source": [
    "X_train['train']=1\n",
    "X_test['train']=0\n",
    "\n",
    "concat=pd.concat([X_train,X_test])\n",
    "concat=pd.get_dummies(concat,drop_first=True)\n",
    "X_train=concat[concat.train==1]\n",
    "X_test=concat[concat.train==0]"
   ]
  },
  {
   "cell_type": "code",
   "execution_count": 77,
   "metadata": {},
   "outputs": [
    {
     "data": {
      "text/plain": [
       "((1047, 16), (262, 16))"
      ]
     },
     "execution_count": 77,
     "metadata": {},
     "output_type": "execute_result"
    }
   ],
   "source": [
    "X_train.shape,X_test.shape"
   ]
  },
  {
   "cell_type": "markdown",
   "metadata": {},
   "source": [
    "### Scale the variables\n",
    "\n",
    "- Use the standard scaler from Scikit-learn"
   ]
  },
  {
   "cell_type": "code",
   "execution_count": 79,
   "metadata": {},
   "outputs": [
    {
     "data": {
      "text/html": [
       "<div>\n",
       "<style scoped>\n",
       "    .dataframe tbody tr th:only-of-type {\n",
       "        vertical-align: middle;\n",
       "    }\n",
       "\n",
       "    .dataframe tbody tr th {\n",
       "        vertical-align: top;\n",
       "    }\n",
       "\n",
       "    .dataframe thead th {\n",
       "        text-align: right;\n",
       "    }\n",
       "</style>\n",
       "<table border=\"1\" class=\"dataframe\">\n",
       "  <thead>\n",
       "    <tr style=\"text-align: right;\">\n",
       "      <th></th>\n",
       "      <th>pclass</th>\n",
       "      <th>age</th>\n",
       "      <th>sibsp</th>\n",
       "      <th>parch</th>\n",
       "      <th>fare</th>\n",
       "      <th>age_na</th>\n",
       "      <th>fare_na</th>\n",
       "      <th>train</th>\n",
       "      <th>sex_male</th>\n",
       "      <th>cabin_Rare</th>\n",
       "      <th>embarked_Missing</th>\n",
       "      <th>embarked_Q</th>\n",
       "      <th>embarked_S</th>\n",
       "      <th>title_Mr</th>\n",
       "      <th>title_Mrs</th>\n",
       "      <th>title_Rare</th>\n",
       "    </tr>\n",
       "  </thead>\n",
       "  <tbody>\n",
       "    <tr>\n",
       "      <th>1118</th>\n",
       "      <td>3</td>\n",
       "      <td>25.0</td>\n",
       "      <td>0</td>\n",
       "      <td>0</td>\n",
       "      <td>7.9250</td>\n",
       "      <td>0</td>\n",
       "      <td>0</td>\n",
       "      <td>1</td>\n",
       "      <td>1</td>\n",
       "      <td>0</td>\n",
       "      <td>0</td>\n",
       "      <td>0</td>\n",
       "      <td>1</td>\n",
       "      <td>1</td>\n",
       "      <td>0</td>\n",
       "      <td>0</td>\n",
       "    </tr>\n",
       "    <tr>\n",
       "      <th>44</th>\n",
       "      <td>1</td>\n",
       "      <td>41.0</td>\n",
       "      <td>0</td>\n",
       "      <td>0</td>\n",
       "      <td>134.5000</td>\n",
       "      <td>0</td>\n",
       "      <td>0</td>\n",
       "      <td>1</td>\n",
       "      <td>0</td>\n",
       "      <td>1</td>\n",
       "      <td>0</td>\n",
       "      <td>0</td>\n",
       "      <td>0</td>\n",
       "      <td>0</td>\n",
       "      <td>0</td>\n",
       "      <td>0</td>\n",
       "    </tr>\n",
       "    <tr>\n",
       "      <th>1072</th>\n",
       "      <td>3</td>\n",
       "      <td>28.0</td>\n",
       "      <td>0</td>\n",
       "      <td>0</td>\n",
       "      <td>7.7333</td>\n",
       "      <td>1</td>\n",
       "      <td>0</td>\n",
       "      <td>1</td>\n",
       "      <td>1</td>\n",
       "      <td>0</td>\n",
       "      <td>0</td>\n",
       "      <td>1</td>\n",
       "      <td>0</td>\n",
       "      <td>1</td>\n",
       "      <td>0</td>\n",
       "      <td>0</td>\n",
       "    </tr>\n",
       "    <tr>\n",
       "      <th>1130</th>\n",
       "      <td>3</td>\n",
       "      <td>18.0</td>\n",
       "      <td>0</td>\n",
       "      <td>0</td>\n",
       "      <td>7.7750</td>\n",
       "      <td>0</td>\n",
       "      <td>0</td>\n",
       "      <td>1</td>\n",
       "      <td>0</td>\n",
       "      <td>0</td>\n",
       "      <td>0</td>\n",
       "      <td>0</td>\n",
       "      <td>1</td>\n",
       "      <td>0</td>\n",
       "      <td>0</td>\n",
       "      <td>0</td>\n",
       "    </tr>\n",
       "    <tr>\n",
       "      <th>574</th>\n",
       "      <td>2</td>\n",
       "      <td>29.0</td>\n",
       "      <td>1</td>\n",
       "      <td>0</td>\n",
       "      <td>21.0000</td>\n",
       "      <td>0</td>\n",
       "      <td>0</td>\n",
       "      <td>1</td>\n",
       "      <td>1</td>\n",
       "      <td>0</td>\n",
       "      <td>0</td>\n",
       "      <td>0</td>\n",
       "      <td>1</td>\n",
       "      <td>1</td>\n",
       "      <td>0</td>\n",
       "      <td>0</td>\n",
       "    </tr>\n",
       "  </tbody>\n",
       "</table>\n",
       "</div>"
      ],
      "text/plain": [
       "      pclass   age  sibsp  parch      fare  age_na  fare_na  train  sex_male  \\\n",
       "1118       3  25.0      0      0    7.9250       0        0      1         1   \n",
       "44         1  41.0      0      0  134.5000       0        0      1         0   \n",
       "1072       3  28.0      0      0    7.7333       1        0      1         1   \n",
       "1130       3  18.0      0      0    7.7750       0        0      1         0   \n",
       "574        2  29.0      1      0   21.0000       0        0      1         1   \n",
       "\n",
       "      cabin_Rare  embarked_Missing  embarked_Q  embarked_S  title_Mr  \\\n",
       "1118           0                 0           0           1         1   \n",
       "44             1                 0           0           0         0   \n",
       "1072           0                 0           1           0         1   \n",
       "1130           0                 0           0           1         0   \n",
       "574            0                 0           0           1         1   \n",
       "\n",
       "      title_Mrs  title_Rare  \n",
       "1118          0           0  \n",
       "44            0           0  \n",
       "1072          0           0  \n",
       "1130          0           0  \n",
       "574           0           0  "
      ]
     },
     "execution_count": 79,
     "metadata": {},
     "output_type": "execute_result"
    }
   ],
   "source": [
    "X_train.head()"
   ]
  },
  {
   "cell_type": "code",
   "execution_count": 80,
   "metadata": {},
   "outputs": [
    {
     "name": "stdout",
     "output_type": "stream",
     "text": [
      "['pclass', 'age', 'fare']\n"
     ]
    }
   ],
   "source": [
    "num_var=['pclass','age','fare']\n",
    "\n",
    "print(num_var)\n",
    "\n",
    "scalar=StandardScaler()\n",
    "\n",
    "scalar.fit(X_train[num_var])\n",
    "\n",
    "X_train[num_var] = scalar.transform(X_train[num_var])\n",
    "\n",
    "X_test[num_var] = scalar.transform(X_test[num_var])\n"
   ]
  },
  {
   "cell_type": "code",
   "execution_count": 82,
   "metadata": {},
   "outputs": [
    {
     "data": {
      "text/html": [
       "<div>\n",
       "<style scoped>\n",
       "    .dataframe tbody tr th:only-of-type {\n",
       "        vertical-align: middle;\n",
       "    }\n",
       "\n",
       "    .dataframe tbody tr th {\n",
       "        vertical-align: top;\n",
       "    }\n",
       "\n",
       "    .dataframe thead th {\n",
       "        text-align: right;\n",
       "    }\n",
       "</style>\n",
       "<table border=\"1\" class=\"dataframe\">\n",
       "  <thead>\n",
       "    <tr style=\"text-align: right;\">\n",
       "      <th></th>\n",
       "      <th>pclass</th>\n",
       "      <th>age</th>\n",
       "      <th>sibsp</th>\n",
       "      <th>parch</th>\n",
       "      <th>fare</th>\n",
       "      <th>age_na</th>\n",
       "      <th>fare_na</th>\n",
       "      <th>train</th>\n",
       "      <th>sex_male</th>\n",
       "      <th>cabin_Rare</th>\n",
       "      <th>embarked_Missing</th>\n",
       "      <th>embarked_Q</th>\n",
       "      <th>embarked_S</th>\n",
       "      <th>title_Mr</th>\n",
       "      <th>title_Mrs</th>\n",
       "      <th>title_Rare</th>\n",
       "    </tr>\n",
       "  </thead>\n",
       "  <tbody>\n",
       "    <tr>\n",
       "      <th>1139</th>\n",
       "      <td>0.835808</td>\n",
       "      <td>0.665118</td>\n",
       "      <td>0</td>\n",
       "      <td>0</td>\n",
       "      <td>-0.505353</td>\n",
       "      <td>0</td>\n",
       "      <td>0</td>\n",
       "      <td>0</td>\n",
       "      <td>1</td>\n",
       "      <td>0</td>\n",
       "      <td>0</td>\n",
       "      <td>0</td>\n",
       "      <td>1</td>\n",
       "      <td>1</td>\n",
       "      <td>0</td>\n",
       "      <td>0</td>\n",
       "    </tr>\n",
       "    <tr>\n",
       "      <th>533</th>\n",
       "      <td>-0.353174</td>\n",
       "      <td>-0.688710</td>\n",
       "      <td>0</td>\n",
       "      <td>1</td>\n",
       "      <td>-0.248980</td>\n",
       "      <td>0</td>\n",
       "      <td>0</td>\n",
       "      <td>0</td>\n",
       "      <td>0</td>\n",
       "      <td>0</td>\n",
       "      <td>0</td>\n",
       "      <td>0</td>\n",
       "      <td>1</td>\n",
       "      <td>0</td>\n",
       "      <td>0</td>\n",
       "      <td>0</td>\n",
       "    </tr>\n",
       "    <tr>\n",
       "      <th>459</th>\n",
       "      <td>-0.353174</td>\n",
       "      <td>0.983666</td>\n",
       "      <td>1</td>\n",
       "      <td>0</td>\n",
       "      <td>-0.131595</td>\n",
       "      <td>0</td>\n",
       "      <td>0</td>\n",
       "      <td>0</td>\n",
       "      <td>1</td>\n",
       "      <td>0</td>\n",
       "      <td>0</td>\n",
       "      <td>0</td>\n",
       "      <td>1</td>\n",
       "      <td>1</td>\n",
       "      <td>0</td>\n",
       "      <td>0</td>\n",
       "    </tr>\n",
       "    <tr>\n",
       "      <th>1150</th>\n",
       "      <td>0.835808</td>\n",
       "      <td>-0.131251</td>\n",
       "      <td>0</td>\n",
       "      <td>0</td>\n",
       "      <td>-0.376148</td>\n",
       "      <td>1</td>\n",
       "      <td>0</td>\n",
       "      <td>0</td>\n",
       "      <td>1</td>\n",
       "      <td>0</td>\n",
       "      <td>0</td>\n",
       "      <td>0</td>\n",
       "      <td>1</td>\n",
       "      <td>1</td>\n",
       "      <td>0</td>\n",
       "      <td>0</td>\n",
       "    </tr>\n",
       "    <tr>\n",
       "      <th>393</th>\n",
       "      <td>-0.353174</td>\n",
       "      <td>-0.370162</td>\n",
       "      <td>0</td>\n",
       "      <td>0</td>\n",
       "      <td>-0.043556</td>\n",
       "      <td>0</td>\n",
       "      <td>0</td>\n",
       "      <td>0</td>\n",
       "      <td>1</td>\n",
       "      <td>0</td>\n",
       "      <td>0</td>\n",
       "      <td>0</td>\n",
       "      <td>1</td>\n",
       "      <td>1</td>\n",
       "      <td>0</td>\n",
       "      <td>0</td>\n",
       "    </tr>\n",
       "  </tbody>\n",
       "</table>\n",
       "</div>"
      ],
      "text/plain": [
       "        pclass       age  sibsp  parch      fare  age_na  fare_na  train  \\\n",
       "1139  0.835808  0.665118      0      0 -0.505353       0        0      0   \n",
       "533  -0.353174 -0.688710      0      1 -0.248980       0        0      0   \n",
       "459  -0.353174  0.983666      1      0 -0.131595       0        0      0   \n",
       "1150  0.835808 -0.131251      0      0 -0.376148       1        0      0   \n",
       "393  -0.353174 -0.370162      0      0 -0.043556       0        0      0   \n",
       "\n",
       "      sex_male  cabin_Rare  embarked_Missing  embarked_Q  embarked_S  \\\n",
       "1139         1           0                 0           0           1   \n",
       "533          0           0                 0           0           1   \n",
       "459          1           0                 0           0           1   \n",
       "1150         1           0                 0           0           1   \n",
       "393          1           0                 0           0           1   \n",
       "\n",
       "      title_Mr  title_Mrs  title_Rare  \n",
       "1139         1          0           0  \n",
       "533          0          0           0  \n",
       "459          1          0           0  \n",
       "1150         1          0           0  \n",
       "393          1          0           0  "
      ]
     },
     "execution_count": 82,
     "metadata": {},
     "output_type": "execute_result"
    }
   ],
   "source": [
    "X_test.head()"
   ]
  },
  {
   "cell_type": "markdown",
   "metadata": {},
   "source": [
    "## Train the Logistic Regression model\n",
    "\n",
    "- Set the regularization parameter to 0.0005\n",
    "- Set the seed to 0"
   ]
  },
  {
   "cell_type": "code",
   "execution_count": 83,
   "metadata": {},
   "outputs": [
    {
     "data": {
      "text/html": [
       "<div>\n",
       "<style scoped>\n",
       "    .dataframe tbody tr th:only-of-type {\n",
       "        vertical-align: middle;\n",
       "    }\n",
       "\n",
       "    .dataframe tbody tr th {\n",
       "        vertical-align: top;\n",
       "    }\n",
       "\n",
       "    .dataframe thead th {\n",
       "        text-align: right;\n",
       "    }\n",
       "</style>\n",
       "<table border=\"1\" class=\"dataframe\">\n",
       "  <thead>\n",
       "    <tr style=\"text-align: right;\">\n",
       "      <th></th>\n",
       "      <th>pclass</th>\n",
       "      <th>age</th>\n",
       "      <th>sibsp</th>\n",
       "      <th>parch</th>\n",
       "      <th>fare</th>\n",
       "      <th>age_na</th>\n",
       "      <th>fare_na</th>\n",
       "      <th>train</th>\n",
       "      <th>sex_male</th>\n",
       "      <th>cabin_Rare</th>\n",
       "      <th>embarked_Missing</th>\n",
       "      <th>embarked_Q</th>\n",
       "      <th>embarked_S</th>\n",
       "      <th>title_Mr</th>\n",
       "      <th>title_Mrs</th>\n",
       "      <th>title_Rare</th>\n",
       "    </tr>\n",
       "  </thead>\n",
       "  <tbody>\n",
       "    <tr>\n",
       "      <th>1139</th>\n",
       "      <td>0.835808</td>\n",
       "      <td>0.665118</td>\n",
       "      <td>0</td>\n",
       "      <td>0</td>\n",
       "      <td>-0.505353</td>\n",
       "      <td>0</td>\n",
       "      <td>0</td>\n",
       "      <td>0</td>\n",
       "      <td>1</td>\n",
       "      <td>0</td>\n",
       "      <td>0</td>\n",
       "      <td>0</td>\n",
       "      <td>1</td>\n",
       "      <td>1</td>\n",
       "      <td>0</td>\n",
       "      <td>0</td>\n",
       "    </tr>\n",
       "    <tr>\n",
       "      <th>533</th>\n",
       "      <td>-0.353174</td>\n",
       "      <td>-0.688710</td>\n",
       "      <td>0</td>\n",
       "      <td>1</td>\n",
       "      <td>-0.248980</td>\n",
       "      <td>0</td>\n",
       "      <td>0</td>\n",
       "      <td>0</td>\n",
       "      <td>0</td>\n",
       "      <td>0</td>\n",
       "      <td>0</td>\n",
       "      <td>0</td>\n",
       "      <td>1</td>\n",
       "      <td>0</td>\n",
       "      <td>0</td>\n",
       "      <td>0</td>\n",
       "    </tr>\n",
       "    <tr>\n",
       "      <th>459</th>\n",
       "      <td>-0.353174</td>\n",
       "      <td>0.983666</td>\n",
       "      <td>1</td>\n",
       "      <td>0</td>\n",
       "      <td>-0.131595</td>\n",
       "      <td>0</td>\n",
       "      <td>0</td>\n",
       "      <td>0</td>\n",
       "      <td>1</td>\n",
       "      <td>0</td>\n",
       "      <td>0</td>\n",
       "      <td>0</td>\n",
       "      <td>1</td>\n",
       "      <td>1</td>\n",
       "      <td>0</td>\n",
       "      <td>0</td>\n",
       "    </tr>\n",
       "    <tr>\n",
       "      <th>1150</th>\n",
       "      <td>0.835808</td>\n",
       "      <td>-0.131251</td>\n",
       "      <td>0</td>\n",
       "      <td>0</td>\n",
       "      <td>-0.376148</td>\n",
       "      <td>1</td>\n",
       "      <td>0</td>\n",
       "      <td>0</td>\n",
       "      <td>1</td>\n",
       "      <td>0</td>\n",
       "      <td>0</td>\n",
       "      <td>0</td>\n",
       "      <td>1</td>\n",
       "      <td>1</td>\n",
       "      <td>0</td>\n",
       "      <td>0</td>\n",
       "    </tr>\n",
       "    <tr>\n",
       "      <th>393</th>\n",
       "      <td>-0.353174</td>\n",
       "      <td>-0.370162</td>\n",
       "      <td>0</td>\n",
       "      <td>0</td>\n",
       "      <td>-0.043556</td>\n",
       "      <td>0</td>\n",
       "      <td>0</td>\n",
       "      <td>0</td>\n",
       "      <td>1</td>\n",
       "      <td>0</td>\n",
       "      <td>0</td>\n",
       "      <td>0</td>\n",
       "      <td>1</td>\n",
       "      <td>1</td>\n",
       "      <td>0</td>\n",
       "      <td>0</td>\n",
       "    </tr>\n",
       "  </tbody>\n",
       "</table>\n",
       "</div>"
      ],
      "text/plain": [
       "        pclass       age  sibsp  parch      fare  age_na  fare_na  train  \\\n",
       "1139  0.835808  0.665118      0      0 -0.505353       0        0      0   \n",
       "533  -0.353174 -0.688710      0      1 -0.248980       0        0      0   \n",
       "459  -0.353174  0.983666      1      0 -0.131595       0        0      0   \n",
       "1150  0.835808 -0.131251      0      0 -0.376148       1        0      0   \n",
       "393  -0.353174 -0.370162      0      0 -0.043556       0        0      0   \n",
       "\n",
       "      sex_male  cabin_Rare  embarked_Missing  embarked_Q  embarked_S  \\\n",
       "1139         1           0                 0           0           1   \n",
       "533          0           0                 0           0           1   \n",
       "459          1           0                 0           0           1   \n",
       "1150         1           0                 0           0           1   \n",
       "393          1           0                 0           0           1   \n",
       "\n",
       "      title_Mr  title_Mrs  title_Rare  \n",
       "1139         1          0           0  \n",
       "533          0          0           0  \n",
       "459          1          0           0  \n",
       "1150         1          0           0  \n",
       "393          1          0           0  "
      ]
     },
     "execution_count": 83,
     "metadata": {},
     "output_type": "execute_result"
    }
   ],
   "source": [
    "X_test.head()"
   ]
  },
  {
   "cell_type": "code",
   "execution_count": 86,
   "metadata": {},
   "outputs": [],
   "source": [
    "clf = LogisticRegression(random_state=0).fit(X_train, y_train)"
   ]
  },
  {
   "cell_type": "markdown",
   "metadata": {},
   "source": [
    "## Make predictions and evaluate model performance\n",
    "\n",
    "Determine:\n",
    "- roc-auc\n",
    "- accuracy\n",
    "\n",
    "**Important, remember that to determine the accuracy, you need the outcome 0, 1, referring to survived or not. But to determine the roc-auc you need the probability of survival.**"
   ]
  },
  {
   "cell_type": "code",
   "execution_count": 88,
   "metadata": {},
   "outputs": [
    {
     "data": {
      "text/plain": [
       "80.91603053435115"
      ]
     },
     "execution_count": 88,
     "metadata": {},
     "output_type": "execute_result"
    }
   ],
   "source": [
    "clf.score(X_test,y_test)*100"
   ]
  },
  {
   "cell_type": "code",
   "execution_count": 89,
   "metadata": {},
   "outputs": [
    {
     "data": {
      "text/plain": [
       "80.70678127984718"
      ]
     },
     "execution_count": 89,
     "metadata": {},
     "output_type": "execute_result"
    }
   ],
   "source": [
    "clf.score(X_train,y_train)*100"
   ]
  },
  {
   "cell_type": "code",
   "execution_count": 95,
   "metadata": {},
   "outputs": [
    {
     "data": {
      "text/plain": [
       "array([[0.92117046, 0.07882954],\n",
       "       [0.25860812, 0.74139188],\n",
       "       [0.9106535 , 0.0893465 ],\n",
       "       [0.9294517 , 0.0705483 ],\n",
       "       [0.80066596, 0.19933404],\n",
       "       [0.24527478, 0.75472522],\n",
       "       [0.69314913, 0.30685087],\n",
       "       [0.36094072, 0.63905928],\n",
       "       [0.91501001, 0.08498999],\n",
       "       [0.92991651, 0.07008349],\n",
       "       [0.79422473, 0.20577527],\n",
       "       [0.90426179, 0.09573821],\n",
       "       [0.43860057, 0.56139943],\n",
       "       [0.34326174, 0.65673826],\n",
       "       [0.10148033, 0.89851967],\n",
       "       [0.79957989, 0.20042011],\n",
       "       [0.35669835, 0.64330165],\n",
       "       [0.49773463, 0.50226537],\n",
       "       [0.10938223, 0.89061777],\n",
       "       [0.90948395, 0.09051605],\n",
       "       [0.87829718, 0.12170282],\n",
       "       [0.89685871, 0.10314129],\n",
       "       [0.89629625, 0.10370375],\n",
       "       [0.11212231, 0.88787769],\n",
       "       [0.49625261, 0.50374739],\n",
       "       [0.22343682, 0.77656318],\n",
       "       [0.77431444, 0.22568556],\n",
       "       [0.85695195, 0.14304805],\n",
       "       [0.90588316, 0.09411684],\n",
       "       [0.31707466, 0.68292534],\n",
       "       [0.18454984, 0.81545016],\n",
       "       [0.04319809, 0.95680191],\n",
       "       [0.14852246, 0.85147754],\n",
       "       [0.67640406, 0.32359594],\n",
       "       [0.12918817, 0.87081183],\n",
       "       [0.92995549, 0.07004451],\n",
       "       [0.90949808, 0.09050192],\n",
       "       [0.69299304, 0.30700696],\n",
       "       [0.88171174, 0.11828826],\n",
       "       [0.88450965, 0.11549035],\n",
       "       [0.92997905, 0.07002095],\n",
       "       [0.90648303, 0.09351697],\n",
       "       [0.68487174, 0.31512826],\n",
       "       [0.45482712, 0.54517288],\n",
       "       [0.49446019, 0.50553981],\n",
       "       [0.83953558, 0.16046442],\n",
       "       [0.85529398, 0.14470602],\n",
       "       [0.05230477, 0.94769523],\n",
       "       [0.35680459, 0.64319541],\n",
       "       [0.92987297, 0.07012703],\n",
       "       [0.20930154, 0.79069846],\n",
       "       [0.92993283, 0.07006717],\n",
       "       [0.88452719, 0.11547281],\n",
       "       [0.41831805, 0.58168195],\n",
       "       [0.8905314 , 0.1094686 ],\n",
       "       [0.92992104, 0.07007896],\n",
       "       [0.05335287, 0.94664713],\n",
       "       [0.44043863, 0.55956137],\n",
       "       [0.30182838, 0.69817162],\n",
       "       [0.12915339, 0.87084661],\n",
       "       [0.87141903, 0.12858097],\n",
       "       [0.31473899, 0.68526101],\n",
       "       [0.65327801, 0.34672199],\n",
       "       [0.50379424, 0.49620576],\n",
       "       [0.60403587, 0.39596413],\n",
       "       [0.32706662, 0.67293338],\n",
       "       [0.79913356, 0.20086644],\n",
       "       [0.88171174, 0.11828826],\n",
       "       [0.87495342, 0.12504658],\n",
       "       [0.27699463, 0.72300537],\n",
       "       [0.21162418, 0.78837582],\n",
       "       [0.9144168 , 0.0855832 ],\n",
       "       [0.65399888, 0.34600112],\n",
       "       [0.94535442, 0.05464558],\n",
       "       [0.44308731, 0.55691269],\n",
       "       [0.05719159, 0.94280841],\n",
       "       [0.76899912, 0.23100088],\n",
       "       [0.06997017, 0.93002983],\n",
       "       [0.5439018 , 0.4560982 ],\n",
       "       [0.90661611, 0.09338389],\n",
       "       [0.61466582, 0.38533418],\n",
       "       [0.26039904, 0.73960096],\n",
       "       [0.83129601, 0.16870399],\n",
       "       [0.65343508, 0.34656492],\n",
       "       [0.6412429 , 0.3587571 ],\n",
       "       [0.12929746, 0.87070254],\n",
       "       [0.91540857, 0.08459143],\n",
       "       [0.93880716, 0.06119284],\n",
       "       [0.87489925, 0.12510075],\n",
       "       [0.9263242 , 0.0736758 ],\n",
       "       [0.88171174, 0.11828826],\n",
       "       [0.88171174, 0.11828826],\n",
       "       [0.92944349, 0.07055651],\n",
       "       [0.84335284, 0.15664716],\n",
       "       [0.98825893, 0.01174107],\n",
       "       [0.52953742, 0.47046258],\n",
       "       [0.84977887, 0.15022113],\n",
       "       [0.54151219, 0.45848781],\n",
       "       [0.8462368 , 0.1537632 ],\n",
       "       [0.05362861, 0.94637139],\n",
       "       [0.73523229, 0.26476771],\n",
       "       [0.91948246, 0.08051754],\n",
       "       [0.59121978, 0.40878022],\n",
       "       [0.36637144, 0.63362856],\n",
       "       [0.90160929, 0.09839071],\n",
       "       [0.90571643, 0.09428357],\n",
       "       [0.1824487 , 0.8175513 ],\n",
       "       [0.90654934, 0.09345066],\n",
       "       [0.91432965, 0.08567035],\n",
       "       [0.80099995, 0.19900005],\n",
       "       [0.64894402, 0.35105598],\n",
       "       [0.4309873 , 0.5690127 ],\n",
       "       [0.75630738, 0.24369262],\n",
       "       [0.81323144, 0.18676856],\n",
       "       [0.37077923, 0.62922077],\n",
       "       [0.88820189, 0.11179811],\n",
       "       [0.7507045 , 0.2492955 ],\n",
       "       [0.68751273, 0.31248727],\n",
       "       [0.84530668, 0.15469332],\n",
       "       [0.39378765, 0.60621235],\n",
       "       [0.5524497 , 0.4475503 ],\n",
       "       [0.62758724, 0.37241276],\n",
       "       [0.66530567, 0.33469433],\n",
       "       [0.54397989, 0.45602011],\n",
       "       [0.92592778, 0.07407222],\n",
       "       [0.90661611, 0.09338389],\n",
       "       [0.92993222, 0.07006778],\n",
       "       [0.89355166, 0.10644834],\n",
       "       [0.4088136 , 0.5911864 ],\n",
       "       [0.70919366, 0.29080634],\n",
       "       [0.92993222, 0.07006778],\n",
       "       [0.66530567, 0.33469433],\n",
       "       [0.88869833, 0.11130167],\n",
       "       [0.38747555, 0.61252445],\n",
       "       [0.85525047, 0.14474953],\n",
       "       [0.87822032, 0.12177968],\n",
       "       [0.90186436, 0.09813564],\n",
       "       [0.44312049, 0.55687951],\n",
       "       [0.88150841, 0.11849159],\n",
       "       [0.44298087, 0.55701913],\n",
       "       [0.77259835, 0.22740165],\n",
       "       [0.08235669, 0.91764331],\n",
       "       [0.87489151, 0.12510849],\n",
       "       [0.86818565, 0.13181435],\n",
       "       [0.82215302, 0.17784698],\n",
       "       [0.65387293, 0.34612707],\n",
       "       [0.31784173, 0.68215827],\n",
       "       [0.92993222, 0.07006778],\n",
       "       [0.15751364, 0.84248636],\n",
       "       [0.780055  , 0.219945  ],\n",
       "       [0.57276207, 0.42723793],\n",
       "       [0.74630864, 0.25369136],\n",
       "       [0.7897363 , 0.2102637 ],\n",
       "       [0.21174254, 0.78825746],\n",
       "       [0.83330012, 0.16669988],\n",
       "       [0.88171126, 0.11828874],\n",
       "       [0.23958219, 0.76041781],\n",
       "       [0.0516366 , 0.9483634 ],\n",
       "       [0.83755026, 0.16244974],\n",
       "       [0.85419329, 0.14580671],\n",
       "       [0.88493692, 0.11506308],\n",
       "       [0.68692614, 0.31307386],\n",
       "       [0.67372987, 0.32627013],\n",
       "       [0.40348227, 0.59651773],\n",
       "       [0.8523995 , 0.1476005 ],\n",
       "       [0.20212993, 0.79787007],\n",
       "       [0.90661611, 0.09338389],\n",
       "       [0.86920774, 0.13079226],\n",
       "       [0.9233311 , 0.0766689 ],\n",
       "       [0.88604156, 0.11395844],\n",
       "       [0.83483081, 0.16516919],\n",
       "       [0.649337  , 0.350663  ],\n",
       "       [0.44307929, 0.55692071],\n",
       "       [0.88434467, 0.11565533],\n",
       "       [0.1970211 , 0.8029789 ],\n",
       "       [0.63688653, 0.36311347],\n",
       "       [0.87159977, 0.12840023],\n",
       "       [0.05296627, 0.94703373],\n",
       "       [0.43562167, 0.56437833],\n",
       "       [0.03030225, 0.96969775],\n",
       "       [0.07097259, 0.92902741],\n",
       "       [0.90661611, 0.09338389],\n",
       "       [0.4544175 , 0.5455825 ],\n",
       "       [0.75492986, 0.24507014],\n",
       "       [0.16690064, 0.83309936],\n",
       "       [0.47810918, 0.52189082],\n",
       "       [0.14815212, 0.85184788],\n",
       "       [0.88171126, 0.11828874],\n",
       "       [0.89137831, 0.10862169],\n",
       "       [0.85732052, 0.14267948],\n",
       "       [0.2926876 , 0.7073124 ],\n",
       "       [0.63202383, 0.36797617],\n",
       "       [0.10622473, 0.89377527],\n",
       "       [0.89455883, 0.10544117],\n",
       "       [0.6113928 , 0.3886072 ],\n",
       "       [0.36471542, 0.63528458],\n",
       "       [0.9255036 , 0.0744964 ],\n",
       "       [0.16712861, 0.83287139],\n",
       "       [0.88125529, 0.11874471],\n",
       "       [0.88908384, 0.11091616],\n",
       "       [0.89474953, 0.10525047],\n",
       "       [0.92992104, 0.07007896],\n",
       "       [0.87820196, 0.12179804],\n",
       "       [0.10945821, 0.89054179],\n",
       "       [0.66194208, 0.33805792],\n",
       "       [0.86822068, 0.13177932],\n",
       "       [0.8920739 , 0.1079261 ],\n",
       "       [0.86542834, 0.13457166],\n",
       "       [0.8611469 , 0.1388531 ],\n",
       "       [0.91193691, 0.08806309],\n",
       "       [0.44305182, 0.55694818],\n",
       "       [0.6526122 , 0.3473878 ],\n",
       "       [0.79424745, 0.20575255],\n",
       "       [0.94533717, 0.05466283],\n",
       "       [0.35585827, 0.64414173],\n",
       "       [0.90252198, 0.09747802],\n",
       "       [0.88908384, 0.11091616],\n",
       "       [0.95194264, 0.04805736],\n",
       "       [0.81061023, 0.18938977],\n",
       "       [0.92999355, 0.07000645],\n",
       "       [0.05894716, 0.94105284],\n",
       "       [0.31274544, 0.68725456],\n",
       "       [0.09331997, 0.90668003],\n",
       "       [0.05228137, 0.94771863],\n",
       "       [0.1707471 , 0.8292529 ],\n",
       "       [0.94282866, 0.05717134],\n",
       "       [0.5439018 , 0.4560982 ],\n",
       "       [0.26160868, 0.73839132],\n",
       "       [0.32064628, 0.67935372],\n",
       "       [0.21181234, 0.78818766],\n",
       "       [0.21642423, 0.78357577],\n",
       "       [0.65336891, 0.34663109],\n",
       "       [0.88764457, 0.11235543],\n",
       "       [0.3783296 , 0.6216704 ],\n",
       "       [0.87145332, 0.12854668],\n",
       "       [0.87597922, 0.12402078],\n",
       "       [0.44309533, 0.55690467],\n",
       "       [0.94110821, 0.05889179],\n",
       "       [0.8733769 , 0.1266231 ],\n",
       "       [0.65755963, 0.34244037],\n",
       "       [0.83754962, 0.16245038],\n",
       "       [0.78757678, 0.21242322],\n",
       "       [0.92940789, 0.07059211],\n",
       "       [0.8733068 , 0.1266932 ],\n",
       "       [0.83655143, 0.16344857],\n",
       "       [0.63941875, 0.36058125],\n",
       "       [0.56770363, 0.43229637],\n",
       "       [0.79410755, 0.20589245],\n",
       "       [0.21575528, 0.78424472],\n",
       "       [0.82269672, 0.17730328],\n",
       "       [0.90183125, 0.09816875],\n",
       "       [0.90308063, 0.09691937],\n",
       "       [0.37652073, 0.62347927],\n",
       "       [0.89906483, 0.10093517],\n",
       "       [0.37787595, 0.62212405],\n",
       "       [0.88171174, 0.11828826],\n",
       "       [0.22535331, 0.77464669],\n",
       "       [0.87820196, 0.12179804],\n",
       "       [0.92993222, 0.07006778],\n",
       "       [0.82662444, 0.17337556],\n",
       "       [0.80864382, 0.19135618],\n",
       "       [0.92992104, 0.07007896]])"
      ]
     },
     "execution_count": 95,
     "metadata": {},
     "output_type": "execute_result"
    }
   ],
   "source": [
    "lr_probs = clf.predict_proba(X_test)\n",
    "lr_probs"
   ]
  },
  {
   "cell_type": "code",
   "execution_count": 93,
   "metadata": {},
   "outputs": [
    {
     "data": {
      "text/plain": [
       "0.8596604938271605"
      ]
     },
     "execution_count": 93,
     "metadata": {},
     "output_type": "execute_result"
    }
   ],
   "source": [
    "lr_probs = lr_probs[:, 1]\n",
    "lr_auc = roc_auc_score(y_test, lr_probs)\n",
    "lr_auc"
   ]
  },
  {
   "cell_type": "code",
   "execution_count": 94,
   "metadata": {},
   "outputs": [
    {
     "data": {
      "text/plain": [
       "array([0.07882954, 0.74139188, 0.0893465 , 0.0705483 , 0.19933404,\n",
       "       0.75472522, 0.30685087, 0.63905928, 0.08498999, 0.07008349,\n",
       "       0.20577527, 0.09573821, 0.56139943, 0.65673826, 0.89851967,\n",
       "       0.20042011, 0.64330165, 0.50226537, 0.89061777, 0.09051605,\n",
       "       0.12170282, 0.10314129, 0.10370375, 0.88787769, 0.50374739,\n",
       "       0.77656318, 0.22568556, 0.14304805, 0.09411684, 0.68292534,\n",
       "       0.81545016, 0.95680191, 0.85147754, 0.32359594, 0.87081183,\n",
       "       0.07004451, 0.09050192, 0.30700696, 0.11828826, 0.11549035,\n",
       "       0.07002095, 0.09351697, 0.31512826, 0.54517288, 0.50553981,\n",
       "       0.16046442, 0.14470602, 0.94769523, 0.64319541, 0.07012703,\n",
       "       0.79069846, 0.07006717, 0.11547281, 0.58168195, 0.1094686 ,\n",
       "       0.07007896, 0.94664713, 0.55956137, 0.69817162, 0.87084661,\n",
       "       0.12858097, 0.68526101, 0.34672199, 0.49620576, 0.39596413,\n",
       "       0.67293338, 0.20086644, 0.11828826, 0.12504658, 0.72300537,\n",
       "       0.78837582, 0.0855832 , 0.34600112, 0.05464558, 0.55691269,\n",
       "       0.94280841, 0.23100088, 0.93002983, 0.4560982 , 0.09338389,\n",
       "       0.38533418, 0.73960096, 0.16870399, 0.34656492, 0.3587571 ,\n",
       "       0.87070254, 0.08459143, 0.06119284, 0.12510075, 0.0736758 ,\n",
       "       0.11828826, 0.11828826, 0.07055651, 0.15664716, 0.01174107,\n",
       "       0.47046258, 0.15022113, 0.45848781, 0.1537632 , 0.94637139,\n",
       "       0.26476771, 0.08051754, 0.40878022, 0.63362856, 0.09839071,\n",
       "       0.09428357, 0.8175513 , 0.09345066, 0.08567035, 0.19900005,\n",
       "       0.35105598, 0.5690127 , 0.24369262, 0.18676856, 0.62922077,\n",
       "       0.11179811, 0.2492955 , 0.31248727, 0.15469332, 0.60621235,\n",
       "       0.4475503 , 0.37241276, 0.33469433, 0.45602011, 0.07407222,\n",
       "       0.09338389, 0.07006778, 0.10644834, 0.5911864 , 0.29080634,\n",
       "       0.07006778, 0.33469433, 0.11130167, 0.61252445, 0.14474953,\n",
       "       0.12177968, 0.09813564, 0.55687951, 0.11849159, 0.55701913,\n",
       "       0.22740165, 0.91764331, 0.12510849, 0.13181435, 0.17784698,\n",
       "       0.34612707, 0.68215827, 0.07006778, 0.84248636, 0.219945  ,\n",
       "       0.42723793, 0.25369136, 0.2102637 , 0.78825746, 0.16669988,\n",
       "       0.11828874, 0.76041781, 0.9483634 , 0.16244974, 0.14580671,\n",
       "       0.11506308, 0.31307386, 0.32627013, 0.59651773, 0.1476005 ,\n",
       "       0.79787007, 0.09338389, 0.13079226, 0.0766689 , 0.11395844,\n",
       "       0.16516919, 0.350663  , 0.55692071, 0.11565533, 0.8029789 ,\n",
       "       0.36311347, 0.12840023, 0.94703373, 0.56437833, 0.96969775,\n",
       "       0.92902741, 0.09338389, 0.5455825 , 0.24507014, 0.83309936,\n",
       "       0.52189082, 0.85184788, 0.11828874, 0.10862169, 0.14267948,\n",
       "       0.7073124 , 0.36797617, 0.89377527, 0.10544117, 0.3886072 ,\n",
       "       0.63528458, 0.0744964 , 0.83287139, 0.11874471, 0.11091616,\n",
       "       0.10525047, 0.07007896, 0.12179804, 0.89054179, 0.33805792,\n",
       "       0.13177932, 0.1079261 , 0.13457166, 0.1388531 , 0.08806309,\n",
       "       0.55694818, 0.3473878 , 0.20575255, 0.05466283, 0.64414173,\n",
       "       0.09747802, 0.11091616, 0.04805736, 0.18938977, 0.07000645,\n",
       "       0.94105284, 0.68725456, 0.90668003, 0.94771863, 0.8292529 ,\n",
       "       0.05717134, 0.4560982 , 0.73839132, 0.67935372, 0.78818766,\n",
       "       0.78357577, 0.34663109, 0.11235543, 0.6216704 , 0.12854668,\n",
       "       0.12402078, 0.55690467, 0.05889179, 0.1266231 , 0.34244037,\n",
       "       0.16245038, 0.21242322, 0.07059211, 0.1266932 , 0.16344857,\n",
       "       0.36058125, 0.43229637, 0.20589245, 0.78424472, 0.17730328,\n",
       "       0.09816875, 0.09691937, 0.62347927, 0.10093517, 0.62212405,\n",
       "       0.11828826, 0.77464669, 0.12179804, 0.07006778, 0.17337556,\n",
       "       0.19135618, 0.07007896])"
      ]
     },
     "execution_count": 94,
     "metadata": {},
     "output_type": "execute_result"
    }
   ],
   "source": [
    "lr_probs"
   ]
  },
  {
   "cell_type": "markdown",
   "metadata": {},
   "source": [
    "That's it! Well done\n",
    "\n",
    "**Keep this code safe, as we will use this notebook later on, to build production code, in our next assignement!!**"
   ]
  },
  {
   "cell_type": "code",
   "execution_count": null,
   "metadata": {},
   "outputs": [],
   "source": []
  }
 ],
 "metadata": {
  "kernelspec": {
   "display_name": "Python 3",
   "language": "python",
   "name": "python3"
  },
  "language_info": {
   "codemirror_mode": {
    "name": "ipython",
    "version": 3
   },
   "file_extension": ".py",
   "mimetype": "text/x-python",
   "name": "python",
   "nbconvert_exporter": "python",
   "pygments_lexer": "ipython3",
   "version": "3.6.10"
  },
  "toc": {
   "nav_menu": {},
   "number_sections": true,
   "sideBar": true,
   "skip_h1_title": false,
   "toc_cell": false,
   "toc_position": {},
   "toc_section_display": true,
   "toc_window_display": true
  }
 },
 "nbformat": 4,
 "nbformat_minor": 2
}
